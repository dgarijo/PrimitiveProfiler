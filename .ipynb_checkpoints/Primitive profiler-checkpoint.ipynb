{
 "cells": [
  {
   "cell_type": "code",
   "execution_count": 1,
   "metadata": {
    "collapsed": false
   },
   "outputs": [
    {
     "name": "stdout",
     "output_type": "stream",
     "text": [
      "sklearn.svm.SVC\n",
      "PASSED: CLEAN DATA INT\n",
      "PASSED: CLEAN DATA FLOAT\n"
     ]
    },
    {
     "ename": "NameError",
     "evalue": "name 'onlyfiles' is not defined",
     "output_type": "error",
     "traceback": [
      "\u001b[0;31m---------------------------------------------------------------------------\u001b[0m",
      "\u001b[0;31mNameError\u001b[0m                                 Traceback (most recent call last)",
      "\u001b[0;32m<ipython-input-1-49f8fcdf3e08>\u001b[0m in \u001b[0;36m<module>\u001b[0;34m()\u001b[0m\n\u001b[1;32m     62\u001b[0m \u001b[0mDATADIR\u001b[0m \u001b[1;33m=\u001b[0m \u001b[1;34m\"data_profiler/\"\u001b[0m\u001b[1;33m\u001b[0m\u001b[0m\n\u001b[1;32m     63\u001b[0m \u001b[0mprint\u001b[0m\u001b[1;33m(\u001b[0m\u001b[1;34m'sklearn.svm.SVC'\u001b[0m\u001b[1;33m)\u001b[0m\u001b[1;33m\u001b[0m\u001b[0m\n\u001b[0;32m---> 64\u001b[0;31m \u001b[0mgetPrimitiveRequirements\u001b[0m\u001b[1;33m(\u001b[0m\u001b[0mDATADIR\u001b[0m\u001b[1;33m,\u001b[0m\u001b[1;34m'sklearn.svm'\u001b[0m\u001b[1;33m,\u001b[0m\u001b[1;34m'SVC'\u001b[0m\u001b[1;33m,\u001b[0m\u001b[1;34m'false'\u001b[0m\u001b[1;33m)\u001b[0m\u001b[1;33m\u001b[0m\u001b[0m\n\u001b[0m\u001b[1;32m     65\u001b[0m \u001b[0mprint\u001b[0m\u001b[1;33m(\u001b[0m\u001b[1;34m'sklearn.linear_model.LogisticRegression'\u001b[0m\u001b[1;33m)\u001b[0m\u001b[1;33m\u001b[0m\u001b[0m\n\u001b[1;32m     66\u001b[0m \u001b[0mgetPrimitiveRequirements\u001b[0m\u001b[1;33m(\u001b[0m\u001b[0mDATADIR\u001b[0m\u001b[1;33m,\u001b[0m\u001b[1;34m'sklearn.linear_model'\u001b[0m\u001b[1;33m,\u001b[0m\u001b[1;34m'LogisticRegression'\u001b[0m\u001b[1;33m,\u001b[0m\u001b[1;34m'false'\u001b[0m\u001b[1;33m)\u001b[0m\u001b[1;33m\u001b[0m\u001b[0m\n",
      "\u001b[0;32m<ipython-input-1-49f8fcdf3e08>\u001b[0m in \u001b[0;36mgetPrimitiveRequirements\u001b[0;34m(path, primitiveModuleName, primitiveName, testPerformance)\u001b[0m\n\u001b[1;32m     55\u001b[0m     \u001b[0mnlyfiles\u001b[0m \u001b[1;33m=\u001b[0m \u001b[1;33m[\u001b[0m\u001b[0mf\u001b[0m \u001b[1;32mfor\u001b[0m \u001b[0mf\u001b[0m \u001b[1;32min\u001b[0m \u001b[0mlistdir\u001b[0m\u001b[1;33m(\u001b[0m\u001b[0mREQ\u001b[0m\u001b[1;33m)\u001b[0m \u001b[1;32mif\u001b[0m \u001b[0misfile\u001b[0m\u001b[1;33m(\u001b[0m\u001b[0mjoin\u001b[0m\u001b[1;33m(\u001b[0m\u001b[0mREQ\u001b[0m\u001b[1;33m,\u001b[0m \u001b[0mf\u001b[0m\u001b[1;33m)\u001b[0m\u001b[1;33m)\u001b[0m\u001b[1;33m]\u001b[0m\u001b[1;33m\u001b[0m\u001b[0m\n\u001b[1;32m     56\u001b[0m     \u001b[1;31m#print(onlyfiles)\u001b[0m\u001b[1;33m\u001b[0m\u001b[1;33m\u001b[0m\u001b[0m\n\u001b[0;32m---> 57\u001b[0;31m     \u001b[1;32mfor\u001b[0m \u001b[0md\u001b[0m \u001b[1;32min\u001b[0m \u001b[0monlyfiles\u001b[0m\u001b[1;33m:\u001b[0m\u001b[1;33m\u001b[0m\u001b[0m\n\u001b[0m\u001b[1;32m     58\u001b[0m         \u001b[0mdata\u001b[0m \u001b[1;33m=\u001b[0m \u001b[0mpd\u001b[0m\u001b[1;33m.\u001b[0m\u001b[0mread_csv\u001b[0m\u001b[1;33m(\u001b[0m\u001b[0mREQ\u001b[0m\u001b[1;33m+\u001b[0m\u001b[1;34m\"/\"\u001b[0m\u001b[1;33m+\u001b[0m\u001b[0md\u001b[0m\u001b[1;33m)\u001b[0m\u001b[1;33m\u001b[0m\u001b[0m\n\u001b[1;32m     59\u001b[0m         \u001b[0mdata\u001b[0m\u001b[1;33m.\u001b[0m\u001b[0mname\u001b[0m \u001b[1;33m=\u001b[0m \u001b[0md\u001b[0m\u001b[1;33m\u001b[0m\u001b[0m\n",
      "\u001b[0;31mNameError\u001b[0m: name 'onlyfiles' is not defined"
     ]
    }
   ],
   "source": [
    "import pandas as pd\n",
    "\n",
    "import importlib\n",
    "\n",
    "from os import listdir\n",
    "from os.path import isfile, join\n",
    "\n",
    "\n",
    "def class_for_name(module_name, class_name):\n",
    "    try:\n",
    "        # load the module, will raise ImportError if module cannot be loaded\n",
    "        m = importlib.import_module(module_name)\n",
    "        # get the class, will raise AttributeError if class cannot be found\n",
    "        c = getattr(m, class_name)()\n",
    "        return c\n",
    "    except:\n",
    "        print('Could not load module: '+module_name+'.'+class_name)\n",
    "        return -1\n",
    "\n",
    "#Data: dataset to test (from the test datasets that illustrate different requirements)\n",
    "#Primitive: primitive being tested. We assume it has the fit() method\n",
    "def passTest(data, primitive):\n",
    "    target = data.iloc[:,-1]\n",
    "    train = data.drop(data.columns[[len(data.columns)-1]], axis=1) #drop target column (the last one)\n",
    "    try:\n",
    "        y_pred = primitive.fit(train,target)#.predict(train)# Not all primitives have a predict, but should have fit\n",
    "        print(\"PASSED: \"+data.name) \n",
    "    except:\n",
    "        print(\"NOT PASSED: \" +data.name)\n",
    "    #CASE HERE with all the values to be printed\n",
    "   \n",
    "\n",
    "#Path: String with the path to the dataset folders. The system assumes to have three: clean_data, \n",
    "    #requirement_data and performance_data\n",
    "#Primitive module name: string with the module name. E.g., 'sklearn.svm'\n",
    "#Primitive name: string with the name of the primitive to be loaded. E.g., 'SVC'\n",
    "#testPerformance: boolean that is true if you want to test the performance tests (will require more time)\n",
    "def getPrimitiveRequirements(path, primitiveModuleName, primitiveName, testPerformance):\n",
    "    CLEAN = path + \"clean_data\"\n",
    "    REQ = path + \"requirement_data\"\n",
    "    PERF = path + \"performance_data\"\n",
    "    #module = importlib.import_module(primitiveModuleName)\n",
    "    #prim = getattr(module, primitiveName)()\n",
    "    prim =  class_for_name(primitiveModuleName,primitiveName)\n",
    "    if(prim == -1):\n",
    "        return\n",
    "    #Clean data files\n",
    "    data_clean_int = pd.read_csv(CLEAN +'/int_clean_data.csv')\n",
    "    data_clean_int.name = \"CLEAN DATA INT\"\n",
    "    data_clean_float = pd.read_csv(CLEAN +'/float_clean_data.csv') \n",
    "    data_clean_float.name = \"CLEAN DATA FLOAT\"\n",
    "    passTest(data_clean_int, prim)\n",
    "    passTest(data_clean_float, prim)\n",
    "    #TESTS (this should be a method)\n",
    "    onlyfiles = [f for f in listdir(REQ) if isfile(join(REQ, f))]\n",
    "    #print(onlyfiles)\n",
    "    for d in onlyfiles:\n",
    "        data = pd.read_csv(REQ+\"/\"+d)\n",
    "        data.name = d\n",
    "        passTest(data, prim)\n",
    "\n",
    "DATADIR = \"data_profiler/\"\n",
    "print('sklearn.svm.SVC')\n",
    "getPrimitiveRequirements(DATADIR,'sklearn.svm','SVC','false')\n",
    "print('sklearn.linear_model.LogisticRegression')\n",
    "getPrimitiveRequirements(DATADIR,'sklearn.linear_model','LogisticRegression','false')\n",
    "\n",
    "\n"
   ]
  },
  {
   "cell_type": "code",
   "execution_count": 50,
   "metadata": {
    "collapsed": false,
    "scrolled": true
   },
   "outputs": [
    {
     "name": "stdout",
     "output_type": "stream",
     "text": [
      "['all_string_version.csv', 'float_negative_version.csv', 'int_negative_version.csv', 'one_missing_version.csv', 'some_missing_version.csv', 'some_string_version.csv', 'unique_value_version.csv']\n",
      "NOT PASSED: all_string_version.csv\n",
      "PASSED: float_negative_version.csv\n",
      "PASSED: int_negative_version.csv\n",
      "NOT PASSED: one_missing_version.csv\n",
      "NOT PASSED: some_missing_version.csv\n",
      "NOT PASSED: some_string_version.csv\n",
      "PASSED: unique_value_version.csv\n"
     ]
    }
   ],
   "source": [
    "#Files with different issues: missing values, constant values, etc.\n",
    "from os import listdir\n",
    "from os.path import isfile, join\n",
    "onlyfiles = [f for f in listdir(REQ) if isfile(join(REQ, f))]\n",
    "#print(onlyfiles)\n",
    "for d in onlyfiles:\n",
    "    data = pd.read_csv(DATADIR+\"/requirement_data\"+\"/\"+d)\n",
    "    data.name = d\n",
    "    passTest(data, prim)\n",
    "\n",
    "#Files with the performance (TO DO)\n"
   ]
  },
  {
   "cell_type": "code",
   "execution_count": null,
   "metadata": {
    "collapsed": true
   },
   "outputs": [],
   "source": []
  }
 ],
 "metadata": {
  "kernelspec": {
   "display_name": "Python 3",
   "language": "python",
   "name": "python3"
  },
  "language_info": {
   "codemirror_mode": {
    "name": "ipython",
    "version": 3
   },
   "file_extension": ".py",
   "mimetype": "text/x-python",
   "name": "python",
   "nbconvert_exporter": "python",
   "pygments_lexer": "ipython3",
   "version": "3.6.0"
  }
 },
 "nbformat": 4,
 "nbformat_minor": 2
}
