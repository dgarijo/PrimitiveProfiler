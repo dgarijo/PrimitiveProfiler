{
 "cells": [
  {
   "cell_type": "code",
   "execution_count": 68,
   "metadata": {
    "collapsed": false
   },
   "outputs": [
    {
     "name": "stdout",
     "output_type": "stream",
     "text": [
      "sklearn.svm.SVC\n",
      "PASSED: CLEAN DATA INT\n",
      "PASSED: CLEAN DATA FLOAT\n",
      "NOT PASSED: all_string_version.csv\n",
      "PASSED: float_negative_version.csv\n",
      "PASSED: int_negative_version.csv\n",
      "NOT PASSED: one_missing_version.csv\n",
      "NOT PASSED: some_missing_version.csv\n",
      "NOT PASSED: some_string_version.csv\n",
      "PASSED: unique_value_version.csv\n",
      "sklearn.linear_model.LogisticRegression\n",
      "PASSED: CLEAN DATA INT\n",
      "PASSED: CLEAN DATA FLOAT\n",
      "NOT PASSED: all_string_version.csv\n",
      "PASSED: float_negative_version.csv\n",
      "PASSED: int_negative_version.csv\n",
      "NOT PASSED: one_missing_version.csv\n",
      "NOT PASSED: some_missing_version.csv\n",
      "NOT PASSED: some_string_version.csv\n",
      "PASSED: unique_value_version.csv\n"
     ]
    }
   ],
   "source": [
    "import pandas as pd\n",
    "\n",
    "import importlib\n",
    "\n",
    "from os import listdir\n",
    "from os.path import isfile, join\n",
    "\n",
    "\n",
    "def class_for_name(module_name, class_name):\n",
    "    try:\n",
    "        # load the module, will raise ImportError if module cannot be loaded\n",
    "        m = importlib.import_module(module_name)\n",
    "        # get the class, will raise AttributeError if class cannot be found\n",
    "        c = getattr(m, class_name)()\n",
    "        return c\n",
    "    except:\n",
    "        print('Could not load module: '+module_name+'.'+class_name)\n",
    "        return -1\n",
    "\n",
    "#Data: dataset to test (from the test datasets that illustrate different requirements)\n",
    "#Primitive: primitive being tested. We assume it has the fit() method\n",
    "def passTest(data, primitive):\n",
    "    target = data.iloc[:,-1]\n",
    "    train = data.drop(data.columns[[len(data.columns)-1]], axis=1) #drop target column (the last one)\n",
    "    try:\n",
    "        y_pred = primitive.fit(train,target)#.predict(train)# Not all primitives have a predict, but should have fit\n",
    "        print(\"PASSED: \"+data.name) \n",
    "    except:\n",
    "        print(\"NOT PASSED: \" +data.name)\n",
    "    #CASE HERE with all the values to be printed\n",
    "    #print ('banana')\n",
    "\n",
    "#Path: String with the path to the dataset folders. The system assumes to have three: clean_data, requirement_data and performance_data\n",
    "#Primitive module name: string with the module name. E.g., 'sklearn.svm'\n",
    "#Primitive name: string with the name of the primitive to be loaded. E.g., 'SVC'\n",
    "#testPerformance: boolean that is true if you want to test the performance tests (will require more time)\n",
    "def getPrimitiveRequirements(path, primitiveModuleName, primitiveName, testPerformance):\n",
    "    CLEAN = path + \"clean_data\"\n",
    "    REQ = path + \"requirement_data\"\n",
    "    PERF = path + \"performance_data\"\n",
    "    #module = importlib.import_module(primitiveModuleName)\n",
    "    #prim = getattr(module, primitiveName)()\n",
    "    prim =  class_for_name(primitiveModuleName,primitiveName)\n",
    "    if(prim == -1):\n",
    "        return\n",
    "    #Clean data files\n",
    "    data_clean_int = pd.read_csv(CLEAN +'/int_clean_data.csv')\n",
    "    data_clean_int.name = \"CLEAN DATA INT\"\n",
    "    data_clean_float = pd.read_csv(CLEAN +'/float_clean_data.csv') \n",
    "    data_clean_float.name = \"CLEAN DATA FLOAT\"\n",
    "    passTest(data_clean_int, prim)\n",
    "    passTest(data_clean_float, prim)\n",
    "    #TESTS (this should be a method)\n",
    "    nlyfiles = [f for f in listdir(REQ) if isfile(join(REQ, f))]\n",
    "    #print(onlyfiles)\n",
    "    for d in onlyfiles:\n",
    "        data = pd.read_csv(REQ+\"/\"+d)\n",
    "        data.name = d\n",
    "        passTest(data, prim)\n",
    "\n",
    "DATADIR = \"data_profiler/\"\n",
    "print('sklearn.svm.SVC')\n",
    "getPrimitiveRequirements(DATADIR,'sklearn.svm','SVC','false')\n",
    "print('sklearn.linear_model.LogisticRegression')\n",
    "getPrimitiveRequirements(DATADIR,'sklearn.linear_model','LogisticRegression','false')\n",
    "\n",
    "\n"
   ]
  },
  {
   "cell_type": "code",
   "execution_count": 50,
   "metadata": {
    "collapsed": false,
    "scrolled": true
   },
   "outputs": [
    {
     "name": "stdout",
     "output_type": "stream",
     "text": [
      "['all_string_version.csv', 'float_negative_version.csv', 'int_negative_version.csv', 'one_missing_version.csv', 'some_missing_version.csv', 'some_string_version.csv', 'unique_value_version.csv']\n",
      "NOT PASSED: all_string_version.csv\n",
      "PASSED: float_negative_version.csv\n",
      "PASSED: int_negative_version.csv\n",
      "NOT PASSED: one_missing_version.csv\n",
      "NOT PASSED: some_missing_version.csv\n",
      "NOT PASSED: some_string_version.csv\n",
      "PASSED: unique_value_version.csv\n"
     ]
    }
   ],
   "source": [
    "#Files with different issues: missing values, constant values, etc.\n",
    "from os import listdir\n",
    "from os.path import isfile, join\n",
    "onlyfiles = [f for f in listdir(REQ) if isfile(join(REQ, f))]\n",
    "#print(onlyfiles)\n",
    "for d in onlyfiles:\n",
    "    data = pd.read_csv(DATADIR+\"/requirement_data\"+\"/\"+d)\n",
    "    data.name = d\n",
    "    passTest(data, prim)\n",
    "\n",
    "#Files with the performance (TO DO)\n"
   ]
  },
  {
   "cell_type": "code",
   "execution_count": null,
   "metadata": {
    "collapsed": true
   },
   "outputs": [],
   "source": []
  }
 ],
 "metadata": {
  "kernelspec": {
   "display_name": "Python 3",
   "language": "python",
   "name": "python3"
  },
  "language_info": {
   "codemirror_mode": {
    "name": "ipython",
    "version": 3
   },
   "file_extension": ".py",
   "mimetype": "text/x-python",
   "name": "python",
   "nbconvert_exporter": "python",
   "pygments_lexer": "ipython3",
   "version": "3.6.0"
  }
 },
 "nbformat": 4,
 "nbformat_minor": 2
}
